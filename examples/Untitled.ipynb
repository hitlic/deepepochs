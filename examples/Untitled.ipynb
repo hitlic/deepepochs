{
 "cells": [
  {
   "cell_type": "code",
   "execution_count": 1,
   "id": "f5b92b90-e134-4e59-96b1-fc66f8b2e46a",
   "metadata": {},
   "outputs": [
    {
     "name": "stderr",
     "output_type": "stream",
     "text": [
      "/Users/lic/anaconda3/envs/deepepochs/lib/python3.10/site-packages/tqdm/auto.py:21: TqdmWarning: IProgress not found. Please update jupyter and ipywidgets. See https://ipywidgets.readthedocs.io/en/stable/user_install.html\n",
      "  from .autonotebook import tqdm as notebook_tqdm\n"
     ]
    }
   ],
   "source": [
    "import deepepochs"
   ]
  },
  {
   "cell_type": "code",
   "execution_count": 5,
   "id": "b7892640-b14f-44de-88a2-7a25c21a98bc",
   "metadata": {},
   "outputs": [],
   "source": [
    "from deepepochs import Trainer, rename, metrics as dm\n",
    "import torch\n",
    "from torch import nn\n",
    "from torch.nn import functional as F\n",
    "from torchvision.datasets import MNIST\n",
    "from torchvision import transforms\n",
    "from torch.utils.data import DataLoader, random_split\n",
    "\n",
    "def main(*args):\n",
    "    # datasets\n",
    "    data_dir = './datasets'\n",
    "    transform = transforms.Compose([transforms.ToTensor(), transforms.Normalize((0.1307,), (0.3081,))])\n",
    "    mnist_full = MNIST(data_dir, train=True, transform=transform, download=True)\n",
    "    train_ds, val_ds, _ = random_split(mnist_full, [5000, 5000, 50000])\n",
    "    test_ds = MNIST(data_dir, train=False, transform=transform, download=True)\n",
    "\n",
    "    # dataloaders\n",
    "    train_dl = DataLoader(train_ds, batch_size=32)\n",
    "    val_dl = DataLoader(val_ds, batch_size=32)\n",
    "    test_dl = DataLoader(test_ds, batch_size=32)\n",
    "\n",
    "    # pytorch model\n",
    "    channels, width, height = (1, 28, 28)\n",
    "    model = nn.Sequential(\n",
    "        nn.Flatten(),\n",
    "        nn.Linear(channels * width * height, 64),\n",
    "        nn.ReLU(),\n",
    "        nn.Dropout(0.1),\n",
    "        nn.Linear(64, 64),\n",
    "        nn.ReLU(),\n",
    "        nn.Dropout(0.1),\n",
    "        nn.Linear(64, 10)\n",
    "    )\n",
    "\n",
    "    # 指标函数1\n",
    "    def acc(preds, targets):\n",
    "        \"\"\"\n",
    "        指标函数的参数为： (模型预测输出, 标签)\n",
    "                返回值： 当前mini-batch各样本指标的均值\n",
    "        \"\"\"\n",
    "        return dm.accuracy(preds, targets)\n",
    "\n",
    "    # 指标函数2\n",
    "    def recall(preds, targets):\n",
    "        return dm.recall(preds, targets, average='macro')\n",
    "\n",
    "    # 指标函数3\n",
    "    @rename('')\n",
    "    def multi_metrics(preds, targets):\n",
    "        \"\"\"\n",
    "        1. 指标函数也可以一次返回多个指标值，以字典的形式返回。\n",
    "        2. 在输出时，指标的名字由指标函数名和字典的键组成。\n",
    "        3. 可利用rename来改变函数名，或者直接通过指标函数的__name__属性改变函数名。\n",
    "        \"\"\"\n",
    "        return {\n",
    "            'p': dm.precision(preds, targets, average='macro'),\n",
    "            'r': dm.recall(preds, targets, average='macro')\n",
    "            }\n",
    "\n",
    "    opt = torch.optim.Adam(model.parameters(), lr=2e-4)\n",
    "\n",
    "    trainer = Trainer(model, F.cross_entropy, opt=opt, epochs=2,\n",
    "                    metrics=[acc],                        # 1. 在训练、验证和测试中使用的指标\n",
    "                    device='accelerate'\n",
    "                    # device= Accelerator()\n",
    "                     )\n",
    "\n",
    "    progress = trainer.fit(train_dl, val_dl,\n",
    "                            metrics=[multi_metrics],      # 2. 在训练和验证中使用的指标\n",
    "                            train_metrics=[multi_metrics],  # 3. 仅在训练中使用的指标\n",
    "                            val_metrics=[multi_metrics]     # 4. 仅在验证中使用的指标\n",
    "                            )\n",
    "    test_rst = trainer.test(test_dl,\n",
    "                            metrics=[recall]                # 3. 仅在测试中使用的指标\n",
    "                            )\n"
   ]
  },
  {
   "cell_type": "code",
   "execution_count": 7,
   "id": "8e1f865e-67e0-4f83-af5d-d34130b2a308",
   "metadata": {},
   "outputs": [
    {
     "name": "stdout",
     "output_type": "stream",
     "text": [
      "Launching training on MPS.\n",
      "==================================================\n",
      "2023-11-25 20:47:37.168806\n",
      "device:      Accelerate_Single_Device-mps\n",
      "running ID:  1700916457\n",
      "parameters:  55050\n",
      "--------------------------------------------------\n",
      "E 1/2  TRAIN> loss: 1.6134  p: 0.6066  r: 0.5529  acc: 0.5622   VAL> loss: 0.8442  p: 0.8252  r: 0.8167  acc: 0.8188 \u001b[1K\u001b[1K\u001b[1K\u001b[1K\u001b[1K\u001b[1K\u001b[1K\u001b[1K\u001b[1K\u001b[1K\u001b[1K\u001b[1K\u001b[1K\u001b[1K\u001b[1K\u001b[1K\u001b[1K\u001b[1K\u001b[1K\u001b[1K\u001b[1K\u001b[1K\u001b[1K\u001b[1K\u001b[1K\u001b[1K\u001b[1K\u001b[1K\u001b[1K\u001b[1K\u001b[1K\u001b[1K\u001b[1K\u001b[1K\u001b[1K\u001b[1K\u001b[1K\u001b[1K\u001b[1K\u001b[1K\u001b[1K\u001b[1K\u001b[1K\u001b[1K\u001b[1K\u001b[1K\u001b[1K\u001b[1K\u001b[1K\u001b[1K\u001b[1K\u001b[1K\u001b[1K\u001b[1K\u001b[1K\u001b[1K\u001b[1K\u001b[1K\u001b[1K\u001b[1K\u001b[1K\u001b[1K\u001b[1K\u001b[1K\u001b[1K\u001b[1K\u001b[1K\u001b[1K\u001b[1K\u001b[1K\u001b[1K\u001b[1K\u001b[1K\u001b[1K\u001b[1K\u001b[1K\u001b[1K\u001b[1K\u001b[1K\u001b[1K\u001b[1K\u001b[1K\u001b[1K\u001b[1K\u001b[1K\u001b[1K\u001b[1K\u001b[1K\u001b[1K\u001b[1K\u001b[1K\u001b[1K\u001b[1K\u001b[1K\u001b[1K\u001b[1K\u001b[1K\u001b[1K\u001b[1K\u001b[1K\u001b[1K\u001b[1K\u001b[1K\u001b[1K\u001b[1K\u001b[1K\u001b[1K\u001b[1K\u001b[1K\u001b[1K\u001b[1K\u001b[1K\u001b[1K\u001b[1K\u001b[1K\u001b[1K\u001b[1K\u001b[1K\u001b[1K\u001b[1K\u001b[1K\u001b[1K\u001b[1K\u001b[1K\u001b[1K\u001b[1K\u001b[1K\u001b[1K\u001b[1K\u001b[1K\u001b[1K\u001b[1K\u001b[1K\u001b[1K\u001b[1K\u001b[1K\u001b[1K\u001b[1K\u001b[1K\u001b[1K\u001b[1K\u001b[1K\u001b[1K\u001b[1K\u001b[1K\u001b[1K\u001b[1K\u001b[1K\u001b[1K\u001b[1K\u001b[1K\u001b[1K\u001b[1K\u001b[1K\u001b[1K\u001b[1K\u001b[1K\u001b[1K\u001b[1K\u001b[1K\u001b[1K\u001b[1K\u001b[1K\u001b[1K\u001b[1K\u001b[1K\u001b[1K\u001b[1K\u001b[1K\u001b[1K\u001b[1K\u001b[1K\u001b[1K\u001b[1K\u001b[1K\u001b[1K\u001b[1K\u001b[1K\u001b[1K\u001b[1K\u001b[1K\u001b[1K\u001b[1K\u001b[1K\u001b[1K\u001b[1K\u001b[1K\u001b[1K\u001b[1K\u001b[1K\u001b[1K\u001b[1K\u001b[1K\u001b[1K\u001b[1K\u001b[1K\u001b[1K\u001b[1K\u001b[1K\u001b[1K\u001b[1K\u001b[1K\u001b[1K\u001b[1K\u001b[1K\u001b[1K\u001b[1K\u001b[1K\u001b[1K\u001b[1K\u001b[1K\u001b[1K\u001b[1K\u001b[1K\u001b[1K\u001b[1K\u001b[1K\u001b[1K\u001b[1K\u001b[1K\u001b[1K\u001b[1K\u001b[1K\u001b[1K\u001b[1K\u001b[1K\u001b[1K\u001b[1K\u001b[1K\u001b[1K\u001b[1K\u001b[1K\u001b[1K\u001b[1K\u001b[1K\u001b[1K\u001b[1K\u001b[1K\u001b[1K\u001b[1K\u001b[1K\u001b[1K\u001b[1K\u001b[1K\u001b[1K\u001b[1K\u001b[1K\u001b[1K\u001b[1K\u001b[1K\u001b[1K\u001b[1K\u001b[1K\u001b[1K\u001b[1K\u001b[1K\u001b[1K\u001b[1K\u001b[1K\u001b[1K\u001b[1K\u001b[1K\u001b[1K\u001b[1K\u001b[1K\u001b[1K\u001b[1K\u001b[1K\u001b[1K\u001b[1K\u001b[1K\u001b[1K\u001b[1K\u001b[1K\u001b[1K\u001b[1K\u001b[1K\u001b[1K\u001b[1K\u001b[1K\u001b[1K\u001b[1K\u001b[1K\u001b[1K\u001b[1K\u001b[1K\u001b[1K\u001b[1K\u001b[1K\u001b[1K\u001b[1K\u001b[1K\u001b[1K\u001b[1K\u001b[1K\u001b[1K\u001b[1K\u001b[1K\u001b[1K\u001b[1K\u001b[1K\u001b[1K\u001b[1K\n",
      "E 2/2  TRAIN> loss: 0.6954  p: 0.8021  r: 0.8001  acc: 0.8056   VAL> loss: 0.5002  p: 0.8712  r: 0.8686  acc: 0.8694 \u001b[1K\u001b[1K\u001b[1K\u001b[1K\u001b[1K\u001b[1K\u001b[1K\u001b[1K\u001b[1K\u001b[1K\u001b[1K\u001b[1K\u001b[1K\u001b[1K\u001b[1K\u001b[1K\u001b[1K\u001b[1K\u001b[1K\u001b[1K\u001b[1K\u001b[1K\u001b[1K\u001b[1K\u001b[1K\u001b[1K\u001b[1K\u001b[1K\u001b[1K\u001b[1K\u001b[1K\u001b[1K\u001b[1K\u001b[1K\u001b[1K\u001b[1K\u001b[1K\u001b[1K\u001b[1K\u001b[1K\u001b[1K\u001b[1K\u001b[1K\u001b[1K\u001b[1K\u001b[1K\u001b[1K\u001b[1K\u001b[1K\u001b[1K\u001b[1K\u001b[1K\u001b[1K\u001b[1K\u001b[1K\u001b[1K\u001b[1K\u001b[1K\u001b[1K\u001b[1K\u001b[1K\u001b[1K\u001b[1K\u001b[1K\u001b[1K\u001b[1K\u001b[1K\u001b[1K\u001b[1K\u001b[1K\u001b[1K\u001b[1K\u001b[1K\u001b[1K\u001b[1K\u001b[1K\u001b[1K\u001b[1K\u001b[1K\u001b[1K\u001b[1K\u001b[1K\u001b[1K\u001b[1K\u001b[1K\u001b[1K\u001b[1K\u001b[1K\u001b[1K\u001b[1K\u001b[1K\u001b[1K\u001b[1K\u001b[1K\u001b[1K\u001b[1K\u001b[1K\u001b[1K\u001b[1K\u001b[1K\u001b[1K\u001b[1K\u001b[1K\u001b[1K\u001b[1K\u001b[1K\u001b[1K\u001b[1K\u001b[1K\u001b[1K\u001b[1K\u001b[1K\u001b[1K\u001b[1K\u001b[1K\u001b[1K\u001b[1K\u001b[1K\u001b[1K\u001b[1K\u001b[1K\u001b[1K\u001b[1K\u001b[1K\u001b[1K\u001b[1K\u001b[1K\u001b[1K\u001b[1K\u001b[1K\u001b[1K\u001b[1K\u001b[1K\u001b[1K\u001b[1K\u001b[1K\u001b[1K\u001b[1K\u001b[1K\u001b[1K\u001b[1K\u001b[1K\u001b[1K\u001b[1K\u001b[1K\u001b[1K\u001b[1K\u001b[1K\u001b[1K\u001b[1K\u001b[1K\u001b[1K\u001b[1K\u001b[1K\u001b[1K\u001b[1K\u001b[1K\u001b[1K\u001b[1K\u001b[1K\u001b[1K\u001b[1K\u001b[1K\u001b[1K\u001b[1K\u001b[1K\u001b[1K\u001b[1K\u001b[1K\u001b[1K\u001b[1K\u001b[1K\u001b[1K\u001b[1K\u001b[1K\u001b[1K\u001b[1K\u001b[1K\u001b[1K\u001b[1K\u001b[1K\u001b[1K\u001b[1K\u001b[1K\u001b[1K\u001b[1K\u001b[1K\u001b[1K\u001b[1K\u001b[1K\u001b[1K\u001b[1K\u001b[1K\u001b[1K\u001b[1K\u001b[1K\u001b[1K\u001b[1K\u001b[1K\u001b[1K\u001b[1K\u001b[1K\u001b[1K\u001b[1K\u001b[1K\u001b[1K\u001b[1K\u001b[1K\u001b[1K\u001b[1K\u001b[1K\u001b[1K\u001b[1K\u001b[1K\u001b[1K\u001b[1K\u001b[1K\u001b[1K\u001b[1K\u001b[1K\u001b[1K\u001b[1K\u001b[1K\u001b[1K\u001b[1K\u001b[1K\u001b[1K\u001b[1K\u001b[1K\u001b[1K\u001b[1K\u001b[1K\u001b[1K\u001b[1K\u001b[1K\u001b[1K\u001b[1K\u001b[1K\u001b[1K\u001b[1K\u001b[1K\u001b[1K\u001b[1K\u001b[1K\u001b[1K\u001b[1K\u001b[1K\u001b[1K\u001b[1K\u001b[1K\u001b[1K\u001b[1K\u001b[1K\u001b[1K\u001b[1K\u001b[1K\u001b[1K\u001b[1K\u001b[1K\u001b[1K\u001b[1K\u001b[1K\u001b[1K\u001b[1K\u001b[1K\u001b[1K\u001b[1K\u001b[1K\u001b[1K\u001b[1K\u001b[1K\u001b[1K\u001b[1K\u001b[1K\u001b[1K\u001b[1K\u001b[1K\u001b[1K\u001b[1K\u001b[1K\u001b[1K\u001b[1K\u001b[1K\u001b[1K\u001b[1K\u001b[1K\u001b[1K\u001b[1K\u001b[1K\u001b[1K\u001b[1K\u001b[1K\u001b[1K\u001b[1K\u001b[1K\u001b[1K\u001b[1K\u001b[1K\u001b[1K\u001b[1K\u001b[1K\u001b[1K\u001b[1K\n",
      "--------------------------------------------------\n",
      "E 1/1  TEST> loss: 0.4860  recall: 0.8735  acc: 0.8754 cc: 0.8750 \u001b[1K\u001b[1K\u001b[1K\u001b[1K\u001b[1K\u001b[1K\u001b[1K\u001b[1K\u001b[1K\u001b[1K\u001b[1K\u001b[1K\u001b[1K\u001b[1K\u001b[1K\u001b[1K\u001b[1K\u001b[1K\u001b[1K\u001b[1K\u001b[1K\u001b[1K\u001b[1K\u001b[1K\u001b[1K\u001b[1K\u001b[1K\u001b[1K\u001b[1K\u001b[1K\u001b[1K\u001b[1K\u001b[1K\u001b[1K\u001b[1K\u001b[1K\u001b[1K\u001b[1K\u001b[1K\u001b[1K\u001b[1K\u001b[1K\u001b[1K\u001b[1K\u001b[1K\u001b[1K\u001b[1K\u001b[1K\u001b[1K\u001b[1K\u001b[1K\u001b[1K\u001b[1K\u001b[1K\u001b[1K\u001b[1K\u001b[1K\u001b[1K\u001b[1K\u001b[1K\u001b[1K\u001b[1K\u001b[1K\u001b[1K\u001b[1K\u001b[1K\u001b[1K\u001b[1K\u001b[1K\u001b[1K\u001b[1K\u001b[1K\u001b[1K\u001b[1K\u001b[1K\u001b[1K\u001b[1K\u001b[1K\u001b[1K\u001b[1K\u001b[1K\u001b[1K\u001b[1K\u001b[1K\u001b[1K\u001b[1K\u001b[1K\u001b[1K\u001b[1K\u001b[1K\u001b[1K\u001b[1K\u001b[1K\u001b[1K\u001b[1K\u001b[1K\u001b[1K\u001b[1K\u001b[1K\u001b[1K\u001b[1K\u001b[1K\u001b[1K\u001b[1K\u001b[1K\u001b[1K\u001b[1K\u001b[1K\u001b[1K\u001b[1K\u001b[1K\u001b[1K\u001b[1K\u001b[1K\u001b[1K\u001b[1K\u001b[1K\u001b[1K\u001b[1K\u001b[1K\u001b[1K\u001b[1K\u001b[1K\u001b[1K\u001b[1K\u001b[1K\u001b[1K\u001b[1K\u001b[1K\u001b[1K\u001b[1K\u001b[1K\u001b[1K\u001b[1K\u001b[1K\u001b[1K\u001b[1K\u001b[1K\u001b[1K\u001b[1K\u001b[1K\u001b[1K\u001b[1K\u001b[1K\u001b[1K\u001b[1K\u001b[1K\u001b[1K\u001b[1K\u001b[1K\u001b[1K\u001b[1K\u001b[1K\u001b[1K\u001b[1K\u001b[1K\u001b[1K\u001b[1K\u001b[1K\u001b[1K\u001b[1K\u001b[1K\u001b[1K\u001b[1K\u001b[1K\u001b[1K\u001b[1K\u001b[1K\u001b[1K\u001b[1K\u001b[1K\u001b[1K\u001b[1K\u001b[1K\u001b[1K\u001b[1K\u001b[1K\u001b[1K\u001b[1K\u001b[1K\u001b[1K\u001b[1K\u001b[1K\u001b[1K\u001b[1K\u001b[1K\u001b[1K\u001b[1K\u001b[1K\u001b[1K\u001b[1K\u001b[1K\u001b[1K\u001b[1K\u001b[1K\u001b[1K\u001b[1K\u001b[1K\u001b[1K\u001b[1K\u001b[1K\u001b[1K\u001b[1K\u001b[1K\u001b[1K\u001b[1K\u001b[1K\u001b[1K\u001b[1K\u001b[1K\u001b[1K\u001b[1K\u001b[1K\u001b[1K\u001b[1K\u001b[1K\u001b[1K\u001b[1K\u001b[1K\u001b[1K\u001b[1K\u001b[1K\u001b[1K\u001b[1K\u001b[1K\u001b[1K\u001b[1K\u001b[1K\u001b[1K\u001b[1K\u001b[1K\u001b[1K\u001b[1K\u001b[1K\u001b[1K\u001b[1K\u001b[1K\u001b[1K\u001b[1K\u001b[1K\u001b[1K\u001b[1K\u001b[1K\u001b[1K\u001b[1K\u001b[1K\u001b[1K\u001b[1K\u001b[1K\u001b[1K\u001b[1K\u001b[1K\u001b[1K\u001b[1K\u001b[1K\u001b[1K\u001b[1K\u001b[1K\u001b[1K\u001b[1K\u001b[1K\u001b[1K\u001b[1K\u001b[1K\u001b[1K\u001b[1K\u001b[1K\u001b[1K\u001b[1K\u001b[1K\u001b[1K\u001b[1K\u001b[1K\u001b[1K\u001b[1K\u001b[1K\u001b[1K\u001b[1K\u001b[1K\u001b[1K\u001b[1K\u001b[1K\u001b[1K\u001b[1K\u001b[1K\u001b[1K\u001b[1K\u001b[1K\u001b[1K\u001b[1K\u001b[1K\u001b[1K\u001b[1K\u001b[1K\u001b[1K\u001b[1K\u001b[1K\u001b[1K\u001b[1K\u001b[1K\u001b[1K\u001b[1K\u001b[1K\u001b[1K\u001b[1K\u001b[1K\u001b[1K\u001b[1K\u001b[1K\u001b[1K\u001b[1K\u001b[1K\u001b[1K\n"
     ]
    }
   ],
   "source": [
    "from accelerate import notebook_launcher\n",
    "notebook_launcher(main,(0,), num_processes=1)"
   ]
  },
  {
   "cell_type": "code",
   "execution_count": null,
   "id": "3a196d4c-fde3-4149-be77-f9624f29dd18",
   "metadata": {},
   "outputs": [],
   "source": []
  }
 ],
 "metadata": {
  "kernelspec": {
   "display_name": "Python 3 (ipykernel)",
   "language": "python",
   "name": "python3"
  },
  "language_info": {
   "codemirror_mode": {
    "name": "ipython",
    "version": 3
   },
   "file_extension": ".py",
   "mimetype": "text/x-python",
   "name": "python",
   "nbconvert_exporter": "python",
   "pygments_lexer": "ipython3",
   "version": "3.10.13"
  }
 },
 "nbformat": 4,
 "nbformat_minor": 5
}
