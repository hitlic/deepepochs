{
 "cells": [
  {
   "cell_type": "code",
   "execution_count": 1,
   "id": "f5b92b90-e134-4e59-96b1-fc66f8b2e46a",
   "metadata": {},
   "outputs": [
    {
     "name": "stderr",
     "output_type": "stream",
     "text": [
      "/Users/lic/anaconda3/envs/deepepochs/lib/python3.10/site-packages/tqdm/auto.py:21: TqdmWarning: IProgress not found. Please update jupyter and ipywidgets. See https://ipywidgets.readthedocs.io/en/stable/user_install.html\n",
      "  from .autonotebook import tqdm as notebook_tqdm\n"
     ]
    }
   ],
   "source": [
    "import deepepochs"
   ]
  },
  {
   "cell_type": "code",
   "execution_count": 2,
   "id": "b7892640-b14f-44de-88a2-7a25c21a98bc",
   "metadata": {},
   "outputs": [],
   "source": [
    "from deepepochs import Trainer, rename, metrics as dm\n",
    "import torch\n",
    "from torch import nn\n",
    "from torch.nn import functional as F\n",
    "from torchvision.datasets import MNIST\n",
    "from torchvision import transforms\n",
    "from torch.utils.data import DataLoader, random_split\n",
    "\n",
    "def main(*args):\n",
    "    # datasets\n",
    "    data_dir = './datasets'\n",
    "    transform = transforms.Compose([transforms.ToTensor(), transforms.Normalize((0.1307,), (0.3081,))])\n",
    "    mnist_full = MNIST(data_dir, train=True, transform=transform, download=True)\n",
    "    train_ds, val_ds, _ = random_split(mnist_full, [5000, 5000, 50000])\n",
    "    test_ds = MNIST(data_dir, train=False, transform=transform, download=True)\n",
    "\n",
    "    # dataloaders\n",
    "    train_dl = DataLoader(train_ds, batch_size=32)\n",
    "    val_dl = DataLoader(val_ds, batch_size=32)\n",
    "    test_dl = DataLoader(test_ds, batch_size=32)\n",
    "\n",
    "    # pytorch model\n",
    "    channels, width, height = (1, 28, 28)\n",
    "    model = nn.Sequential(\n",
    "        nn.Flatten(),\n",
    "        nn.Linear(channels * width * height, 64),\n",
    "        nn.ReLU(),\n",
    "        nn.Dropout(0.1),\n",
    "        nn.Linear(64, 64),\n",
    "        nn.ReLU(),\n",
    "        nn.Dropout(0.1),\n",
    "        nn.Linear(64, 10)\n",
    "    )\n",
    "\n",
    "    # 指标函数1\n",
    "    def acc(preds, targets):\n",
    "        \"\"\"\n",
    "        指标函数的参数为： (模型预测输出, 标签)\n",
    "                返回值： 当前mini-batch各样本指标的均值\n",
    "        \"\"\"\n",
    "        return dm.accuracy(preds, targets)\n",
    "\n",
    "    # 指标函数2\n",
    "    def recall(preds, targets):\n",
    "        return dm.recall(preds, targets, average='macro')\n",
    "\n",
    "    # 指标函数3\n",
    "    @rename('')\n",
    "    def multi_metrics(preds, targets):\n",
    "        \"\"\"\n",
    "        1. 指标函数也可以一次返回多个指标值，以字典的形式返回。\n",
    "        2. 在输出时，指标的名字由指标函数名和字典的键组成。\n",
    "        3. 可利用rename来改变函数名，或者直接通过指标函数的__name__属性改变函数名。\n",
    "        \"\"\"\n",
    "        return {\n",
    "            'p': dm.precision(preds, targets, average='macro'),\n",
    "            'r': dm.recall(preds, targets, average='macro')\n",
    "            }\n",
    "\n",
    "    opt = torch.optim.Adam(model.parameters(), lr=2e-4)\n",
    "\n",
    "    trainer = Trainer(model, F.cross_entropy, opt=opt, epochs=2,\n",
    "                    metrics=[acc],                        # 1. 在训练、验证和测试中使用的指标\n",
    "                    device='accelerate'\n",
    "                    # device= Accelerator()\n",
    "                     )\n",
    "\n",
    "    progress = trainer.fit(train_dl, val_dl,\n",
    "                            metrics=[multi_metrics],      # 2. 在训练和验证中使用的指标\n",
    "                            train_metrics=[multi_metrics],  # 3. 仅在训练中使用的指标\n",
    "                            val_metrics=[multi_metrics]     # 4. 仅在验证中使用的指标\n",
    "                            )\n",
    "    test_rst = trainer.test(test_dl,\n",
    "                            metrics=[recall]                # 3. 仅在测试中使用的指标\n",
    "                            )\n"
   ]
  },
  {
   "cell_type": "code",
   "execution_count": 4,
   "id": "8e1f865e-67e0-4f83-af5d-d34130b2a308",
   "metadata": {},
   "outputs": [
    {
     "ename": "ValueError",
     "evalue": "To launch a multi-GPU training from your notebook, the `Accelerator` should only be initialized inside your training function. Restart your notebook and make sure no cells initializes an `Accelerator`.",
     "output_type": "error",
     "traceback": [
      "\u001b[0;31m---------------------------------------------------------------------------\u001b[0m",
      "\u001b[0;31mValueError\u001b[0m                                Traceback (most recent call last)",
      "Cell \u001b[0;32mIn[4], line 2\u001b[0m\n\u001b[1;32m      1\u001b[0m \u001b[38;5;28;01mfrom\u001b[39;00m \u001b[38;5;21;01maccelerate\u001b[39;00m \u001b[38;5;28;01mimport\u001b[39;00m notebook_launcher\n\u001b[0;32m----> 2\u001b[0m \u001b[43mnotebook_launcher\u001b[49m\u001b[43m(\u001b[49m\u001b[43mmain\u001b[49m\u001b[43m,\u001b[49m\u001b[43m \u001b[49m\u001b[43mnum_processes\u001b[49m\u001b[38;5;241;43m=\u001b[39;49m\u001b[38;5;241;43m2\u001b[39;49m\u001b[43m)\u001b[49m\n",
      "File \u001b[0;32m~/anaconda3/envs/deepepochs/lib/python3.10/site-packages/accelerate/launchers.py:140\u001b[0m, in \u001b[0;36mnotebook_launcher\u001b[0;34m(function, args, num_processes, mixed_precision, use_port, master_addr, node_rank, num_nodes)\u001b[0m\n\u001b[1;32m    137\u001b[0m \u001b[38;5;28;01mfrom\u001b[39;00m \u001b[38;5;21;01mtorch\u001b[39;00m\u001b[38;5;21;01m.\u001b[39;00m\u001b[38;5;21;01mmultiprocessing\u001b[39;00m\u001b[38;5;21;01m.\u001b[39;00m\u001b[38;5;21;01mspawn\u001b[39;00m \u001b[38;5;28;01mimport\u001b[39;00m ProcessRaisedException\n\u001b[1;32m    139\u001b[0m \u001b[38;5;28;01mif\u001b[39;00m \u001b[38;5;28mlen\u001b[39m(AcceleratorState\u001b[38;5;241m.\u001b[39m_shared_state) \u001b[38;5;241m>\u001b[39m \u001b[38;5;241m0\u001b[39m:\n\u001b[0;32m--> 140\u001b[0m     \u001b[38;5;28;01mraise\u001b[39;00m \u001b[38;5;167;01mValueError\u001b[39;00m(\n\u001b[1;32m    141\u001b[0m         \u001b[38;5;124m\"\u001b[39m\u001b[38;5;124mTo launch a multi-GPU training from your notebook, the `Accelerator` should only be initialized \u001b[39m\u001b[38;5;124m\"\u001b[39m\n\u001b[1;32m    142\u001b[0m         \u001b[38;5;124m\"\u001b[39m\u001b[38;5;124minside your training function. Restart your notebook and make sure no cells initializes an \u001b[39m\u001b[38;5;124m\"\u001b[39m\n\u001b[1;32m    143\u001b[0m         \u001b[38;5;124m\"\u001b[39m\u001b[38;5;124m`Accelerator`.\u001b[39m\u001b[38;5;124m\"\u001b[39m\n\u001b[1;32m    144\u001b[0m     )\n\u001b[1;32m    145\u001b[0m \u001b[38;5;66;03m# torch.distributed will expect a few environment variable to be here. We set the ones common to each\u001b[39;00m\n\u001b[1;32m    146\u001b[0m \u001b[38;5;66;03m# process here (the other ones will be set be the launcher).\u001b[39;00m\n\u001b[1;32m    147\u001b[0m \u001b[38;5;28;01mwith\u001b[39;00m patch_environment(\n\u001b[1;32m    148\u001b[0m     nproc\u001b[38;5;241m=\u001b[39mnum_processes,\n\u001b[1;32m    149\u001b[0m     node_rank\u001b[38;5;241m=\u001b[39mnode_rank,\n\u001b[0;32m   (...)\u001b[0m\n\u001b[1;32m    154\u001b[0m ):\n\u001b[1;32m    155\u001b[0m     \u001b[38;5;66;03m# First dummy launch\u001b[39;00m\n",
      "\u001b[0;31mValueError\u001b[0m: To launch a multi-GPU training from your notebook, the `Accelerator` should only be initialized inside your training function. Restart your notebook and make sure no cells initializes an `Accelerator`."
     ]
    }
   ],
   "source": [
    "from accelerate import notebook_launcher\n",
    "notebook_launcher(main,(0,), num_processes=2)"
   ]
  },
  {
   "cell_type": "code",
   "execution_count": null,
   "id": "3a196d4c-fde3-4149-be77-f9624f29dd18",
   "metadata": {},
   "outputs": [],
   "source": []
  }
 ],
 "metadata": {
  "kernelspec": {
   "display_name": "Python 3 (ipykernel)",
   "language": "python",
   "name": "python3"
  },
  "language_info": {
   "codemirror_mode": {
    "name": "ipython",
    "version": 3
   },
   "file_extension": ".py",
   "mimetype": "text/x-python",
   "name": "python",
   "nbconvert_exporter": "python",
   "pygments_lexer": "ipython3",
   "version": "3.10.13"
  }
 },
 "nbformat": 4,
 "nbformat_minor": 5
}
